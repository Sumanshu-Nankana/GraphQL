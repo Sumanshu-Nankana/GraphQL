{
 "cells": [
  {
   "cell_type": "markdown",
   "metadata": {},
   "source": [
    "### GraphQL Execution"
   ]
  },
  {
   "cell_type": "raw",
   "metadata": {},
   "source": [
    "So far we have learned that GraphQL is a way to describe schemas and a query language to retrieve data from those schemas. In this chapter, we will learn how GraphQL specifies the execution algorithm for transforming those queries into results. This algorithm is quite simple at its core: the query is traversed field by field, executing \"resolvers\" for each field.\n",
    "\n",
    "So, let’s say we have the following schema:\n",
    "\n",
    "type Query {\n",
    "  author(id: ID!): Author\n",
    "}\n",
    "\n",
    "type Author {\n",
    "  posts: [Post]\n",
    "}\n",
    "\n",
    "type Post {\n",
    "  title: String\n",
    "  content: String\n",
    "}\n",
    "\n",
    "The following is a query we would be able to send to a server with that schema:\n",
    "\n",
    "query {\n",
    "  author(id: \"abc\") {\n",
    "    posts {\n",
    "      title\n",
    "      content\n",
    "    }\n",
    "  }\n",
    "}\n",
    "\n",
    "The first thing to see is that every field in the query can be associated with a type:\n",
    "\n",
    "query: Query {\n",
    "  author(id: \"abc\"): Author {\n",
    "    posts: [Post] {\n",
    "      title: String\n",
    "      content: String\n",
    "    }\n",
    "  }\n",
    "}\n",
    "\n",
    "Now, we can easily find the resolvers in our server to run for every field. The execution starts at the query type and goes breadth-first. This means we run the resolver for Query.author first. Then, we take the result of that resolver and pass it into its child, the resolver for Author.posts. At the next level, the result is a list, so in that case, the execution algorithm runs on one item at a time.\n",
    "\n",
    "So the execution works like this:\n",
    "\n",
    "Query.author(root, { id: 'abc' }, context) -> author\n",
    "Author.posts(author, null, context) -> posts\n",
    "for each post in posts\n",
    "  Post.title(post, null, context) -> title\n",
    "  Post.content(post, null, context) -> content\n",
    "\n",
    "At the end, the execution algorithm puts everything together into the correct shape for the result and returns that.\n",
    "\n",
    "One thing to note is that most GraphQL server implementations will provide “default resolvers” - so you don’t have to specify a resolver function for every single field. In GraphQL.js, for example, you don’t need to specify resolvers when the parent object of the resolver contains a field with the correct name."
   ]
  }
 ],
 "metadata": {
  "kernelspec": {
   "display_name": "Python 3",
   "language": "python",
   "name": "python3"
  },
  "language_info": {
   "codemirror_mode": {
    "name": "ipython",
    "version": 3
   },
   "file_extension": ".py",
   "mimetype": "text/x-python",
   "name": "python",
   "nbconvert_exporter": "python",
   "pygments_lexer": "ipython3",
   "version": "3.8.5"
  }
 },
 "nbformat": 4,
 "nbformat_minor": 4
}
