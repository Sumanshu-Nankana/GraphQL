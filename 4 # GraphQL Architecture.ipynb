{
 "cells": [
  {
   "cell_type": "markdown",
   "metadata": {},
   "source": [
    "#### Architectural Use Case"
   ]
  },
  {
   "cell_type": "raw",
   "metadata": {},
   "source": [
    "1) GraphQL Server with a connected database.\n",
    "2) GraphQL server to integrate existing system.\n",
    "3) Hybrid approach with a connected database and integration of existing system."
   ]
  },
  {
   "cell_type": "markdown",
   "metadata": {},
   "source": [
    "#### GraphQL Server with a connected database."
   ]
  },
  {
   "cell_type": "raw",
   "metadata": {},
   "source": [
    "This architecture will be the most common for the greenfield projects (i.e. the projects which does not have any constraints).\n",
    "\n",
    "In the setup, you have a single web-server that implements the GraphQL specifications.\n",
    "\n",
    "When a query arrives at the GraphQL server, the server reads the query’s payload and fetches the required information from the database.\n",
    "\n",
    "This is called resolving the query.\n",
    "\n",
    "It then constructs the response object as described in the official specification and returns it to the client.\n",
    "\n",
    "Client====> Internet ====> GraphQL Server"
   ]
  },
  {
   "cell_type": "markdown",
   "metadata": {},
   "source": [
    "#### GraphQL server to integrate existing system."
   ]
  },
  {
   "cell_type": "raw",
   "metadata": {},
   "source": [
    "Another major use case for GraphQL is the integration of multiple existing systems behind a single, coherent GraphQL API.\n",
    "\n",
    "This is for those companies who are using Legacy infrastructure and many different API's that have grown over the years and now impose a high maintenance burden.\n",
    "\n",
    "In that context, GraphQL can be used to unify these existing systems and hide their complexity behind a nice GraphQL API.\n",
    "\n",
    "Client===> Web====> GraphQL API ====> Web =====> Legacy System"
   ]
  },
  {
   "cell_type": "markdown",
   "metadata": {},
   "source": [
    "#### Hybrid approach with a connected database and integration of existing system."
   ]
  },
  {
   "cell_type": "raw",
   "metadata": {},
   "source": [
    "In this architecture, when a query is received by the server, the server will resolve it and either retrieve the required data from the connected database or from the integrated APIs.\n",
    "\n",
    "Client===>Web====> GraphQLAPI (Database) ====> Web====> Legacy"
   ]
  },
  {
   "cell_type": "markdown",
   "metadata": {},
   "source": [
    "#### GraphQL Clients"
   ]
  },
  {
   "cell_type": "raw",
   "metadata": {},
   "source": [
    "There are two major GraphQL clients available at the moment. \n",
    "\n",
    "The first one is Apollo Client, which is a community-driven effort to build a powerful and flexible GraphQL client for all major development platforms. \n",
    "\n",
    "The second one is called Relay and it is Facebook’s homegrown GraphQL client that heavily optimizes for performance and is only available on the web."
   ]
  }
 ],
 "metadata": {
  "kernelspec": {
   "display_name": "Python 3",
   "language": "python",
   "name": "python3"
  },
  "language_info": {
   "codemirror_mode": {
    "name": "ipython",
    "version": 3
   },
   "file_extension": ".py",
   "mimetype": "text/x-python",
   "name": "python",
   "nbconvert_exporter": "python",
   "pygments_lexer": "ipython3",
   "version": "3.8.5"
  }
 },
 "nbformat": 4,
 "nbformat_minor": 4
}
