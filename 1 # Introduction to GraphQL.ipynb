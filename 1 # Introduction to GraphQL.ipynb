{
 "cells": [
  {
   "cell_type": "raw",
   "metadata": {},
   "source": [
    "GraphQL is a new API standard that provides a more efficient, powerful, and flexible alternative to REST.\n",
    "\n",
    "It was developed and open sourced by Facebook."
   ]
  },
  {
   "cell_type": "raw",
   "metadata": {},
   "source": [
    "GraphQL enables declarative data fetching where a client can specify exactly what data it needs from an API."
   ]
  },
  {
   "cell_type": "raw",
   "metadata": {},
   "source": [
    "Instead of multiple endpoints that returns fixed data structures, a GraphQL server only exposes a single\n",
    "endpoint and responds with precisely the data that a client asked for"
   ]
  },
  {
   "cell_type": "raw",
   "metadata": {},
   "source": [
    "Client------> Internet ------> Server ----> Database\n",
    "Client<------ Internet <------Server <------Database\n",
    "\n",
    "Client send the request to the Server over the Interet. Server gets the data from the database.\n",
    "and then returns the response to the client."
   ]
  },
  {
   "cell_type": "raw",
   "metadata": {},
   "source": [
    "GraphQL minimizes the amount of data that needs to be transferred over the network and thus majorily improves application operating under these conditions."
   ]
  },
  {
   "cell_type": "raw",
   "metadata": {},
   "source": [
    "With REST APIs the way how data is exposed by the server often needs to be modified to account for specific requirements and design changes on the client side."
   ]
  }
 ],
 "metadata": {
  "kernelspec": {
   "display_name": "Python 3",
   "language": "python",
   "name": "python3"
  },
  "language_info": {
   "codemirror_mode": {
    "name": "ipython",
    "version": 3
   },
   "file_extension": ".py",
   "mimetype": "text/x-python",
   "name": "python",
   "nbconvert_exporter": "python",
   "pygments_lexer": "ipython3",
   "version": "3.8.5"
  }
 },
 "nbformat": 4,
 "nbformat_minor": 4
}
